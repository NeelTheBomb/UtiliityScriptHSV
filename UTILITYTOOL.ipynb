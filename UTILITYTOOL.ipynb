{
 "cells": [
  {
   "cell_type": "code",
   "execution_count": 22,
   "id": "258584e2",
   "metadata": {},
   "outputs": [
    {
     "data": {
      "application/vnd.jupyter.widget-view+json": {
       "model_id": "2ecc044ed26341fa9046739e96d3a2cb",
       "version_major": 2,
       "version_minor": 0
      },
      "text/plain": [
       "interactive(children=(IntSlider(value=0, continuous_update=False, description='hue', max=180), IntSlider(value…"
      ]
     },
     "metadata": {},
     "output_type": "display_data"
    },
    {
     "data": {
      "application/vnd.jupyter.widget-view+json": {
       "model_id": "93d9d75896ba4464bcdb7fd38218e7af",
       "version_major": 2,
       "version_minor": 0
      },
      "text/plain": [
       "interactive(children=(IntSlider(value=0, continuous_update=False, description='hue', max=180), IntSlider(value…"
      ]
     },
     "metadata": {},
     "output_type": "display_data"
    },
    {
     "name": "stdout",
     "output_type": "stream",
     "text": [
      "<function show_color_hsv at 0x7f12731dcc10>\n",
      "<function show_color_hsv at 0x7f12731dcc10>\n"
     ]
    },
    {
     "ename": "NameError",
     "evalue": "name 'NDArray' is not defined",
     "output_type": "error",
     "traceback": [
      "\u001b[0;31m---------------------------------------------------------------------------\u001b[0m",
      "\u001b[0;31mNameError\u001b[0m                                 Traceback (most recent call last)",
      "Cell \u001b[0;32mIn[22], line 50\u001b[0m\n\u001b[1;32m     47\u001b[0m \u001b[38;5;28mprint\u001b[39m(lowercolorvalue)\n\u001b[1;32m     48\u001b[0m \u001b[38;5;28mprint\u001b[39m(uppercolorvalue)\n\u001b[1;32m     49\u001b[0m \u001b[38;5;28;01mdef\u001b[39;00m \u001b[38;5;21mget_mask\u001b[39m(\n\u001b[0;32m---> 50\u001b[0m     image: \u001b[43mNDArray\u001b[49m[(Any, Any, \u001b[38;5;241m3\u001b[39m), np\u001b[38;5;241m.\u001b[39muint8],\n\u001b[1;32m     51\u001b[0m     hsv_lower: Tuple[\u001b[38;5;28mint\u001b[39m, \u001b[38;5;28mint\u001b[39m, \u001b[38;5;28mint\u001b[39m],\n\u001b[1;32m     52\u001b[0m     hsv_upper: Tuple[\u001b[38;5;28mint\u001b[39m, \u001b[38;5;28mint\u001b[39m, \u001b[38;5;28mint\u001b[39m]\n\u001b[1;32m     53\u001b[0m ) \u001b[38;5;241m-\u001b[39m\u001b[38;5;241m>\u001b[39m NDArray[Any, Any]:\n\u001b[1;32m     54\u001b[0m \u001b[38;5;250m    \u001b[39m\u001b[38;5;124;03m\"\"\"\u001b[39;00m\n\u001b[1;32m     55\u001b[0m \u001b[38;5;124;03m    Returns a mask containing all of the areas of image which were between hsv_lower and hsv_upper.\u001b[39;00m\n\u001b[1;32m     56\u001b[0m \n\u001b[0;32m   (...)\u001b[0m\n\u001b[1;32m     60\u001b[0m \u001b[38;5;124;03m        hsv_upper: The upper bound of HSV values to include in the mask.\u001b[39;00m\n\u001b[1;32m     61\u001b[0m \u001b[38;5;124;03m    \"\"\"\u001b[39;00m\n\u001b[1;32m     62\u001b[0m     \u001b[38;5;66;03m# Convert hsv_lower and hsv_upper to numpy arrays so they can be used by OpenCV\u001b[39;00m\n",
      "\u001b[0;31mNameError\u001b[0m: name 'NDArray' is not defined"
     ]
    }
   ],
   "source": [
    "import cv2\n",
    "import numpy as np\n",
    "import os\n",
    "from matplotlib import pyplot as plt\n",
    "import ipywidgets as widgets\n",
    "\n",
    "#replace the value of image with the directory to your image\n",
    "\n",
    "image = 'arimage.png'  #insert image name\n",
    "hsvvaluelower = (0,0,0)  #put lower hsv bounds\n",
    "hsvvalueupper = (230,200,200) #put upper hsv bounds\n",
    "\n",
    "\n",
    "image = cv2.imread(image, cv2.IMREAD_ANYCOLOR)\n",
    "def show_color_hsv(hue: int, saturation: int, value: int) -> None:\n",
    "    \"\"\"\n",
    "    Displays a color specified in the HSV format\n",
    "    \"\"\"\n",
    "    global hsvvaluelower\n",
    "    # Convert from hsv to bgr\n",
    "    hsv = np.array([[[hue, saturation, value]]], np.uint8)\n",
    "    bgr = cv2.cvtColor(hsv, cv2.COLOR_HSV2BGR)\n",
    "    show_color_bgr(bgr[0][0][0], bgr[0][0][1], bgr[0][0][2])\n",
    "def show_color_bgr(blue: int, green: int, red: int) -> None:\n",
    "    \"\"\"\n",
    "    Displays a color specified in the BGR format.\n",
    "    \"\"\"\n",
    "    rectangle = plt.Rectangle((0,0), 50, 50, fc=(red/255, green/255, blue/255))\n",
    "    plt.gca().add_patch(rectangle)\n",
    "    plt.show()\n",
    "\n",
    "\n",
    "def get_mask(\n",
    "    image,\n",
    "    hsv_lower,\n",
    "    hsv_upper\n",
    "):\n",
    "    \"\"\"\n",
    "    Returns a mask containing all of the areas of image which were between hsv_lower and hsv_upper.\n",
    "\n",
    "    Args:\n",
    "        image: The image (stored in BGR) from which to create a mask.\n",
    "        hsv_lower: The lower bound of HSV values to include in the mask.\n",
    "        hsv_upper: The upper bound of HSV values to include in the mask.\n",
    "    \"\"\"\n",
    "    # Convert hsv_lower and hsv_upper to numpy arrays so they can be used by OpenCV\n",
    "    hsv_lower = np.array(hsv_lower)\n",
    "    hsv_upper = np.array(hsv_upper)\n",
    "\n",
    "    # TODO: Use the cv.cvtColor function to switch our BGR colors to HSV colors\n",
    "    image = cv2.cvtColor(image, cv2.COLOR_BGR2RGB)\n",
    "\n",
    "\n",
    "    # TODO: Use the cv.inRange function to highlight areas in the correct range\n",
    "    mask = cv2.inRange(image,hsv_lower,hsv_upper)\n",
    "\n",
    "\n",
    "    return mask\n",
    "\n",
    "def find_contours(mask):\n",
    "    \"\"\"\n",
    "    Returns a list of contours around all objects in a mask.\n",
    "    \"\"\"\n",
    "    return cv2.findContours(mask, cv2.RETR_LIST, cv2.CHAIN_APPROX_SIMPLE)[0]\n",
    "\n",
    "def get_largest_contour(contours, min_area: int = 30):\n",
    "    if len(contours) == 0:\n",
    "        # TODO: What should we return if the list of contours is empty?\n",
    "        return None\n",
    "    count = 0\n",
    "    for contour in contours:\n",
    "        if contour.contourArea() > min_area:\n",
    "            count = count+1\n",
    "    if count == 0:\n",
    "        return None\n",
    "    # TODO: Return the largest contour, but return None if no contour is larger than min_area\n",
    "    largest = 0\n",
    "    greatest = contours[0]\n",
    "    for contour in contours:\n",
    "        if contour.countourArea() > largest:\n",
    "            greatest = contour\n",
    "            largest = contour.contourArea()\n",
    "    return greatest\n",
    "def draw_contour(\n",
    "    image,\n",
    "    contour,\n",
    "    color = (80, 255, 0)\n",
    "):\n",
    "    cv2.drawContours(image_copy, contour, 0, color, 3)\n",
    "\n",
    "mask = get_mask(image, hsvvaluelower, hsvvalueupper)\n",
    "contours = find_contours(mask)\n",
    "largest_contour = max(contours, key=cv2.contourArea)\n",
    "\n",
    "image_copy = np.copy(image)\n",
    "cv2.drawContours(image_copy, largest_contour, -1, (0, 255, 0), 3)\n",
    "plt.imshow(image_copy)\n",
    "plt.show()\n",
    "\n"
   ]
  },
  {
   "cell_type": "code",
   "execution_count": null,
   "id": "d6d1bf0f",
   "metadata": {},
   "outputs": [],
   "source": []
  }
 ],
 "metadata": {
  "kernelspec": {
   "display_name": "Python 3 (ipykernel)",
   "language": "python",
   "name": "python3"
  },
  "language_info": {
   "codemirror_mode": {
    "name": "ipython",
    "version": 3
   },
   "file_extension": ".py",
   "mimetype": "text/x-python",
   "name": "python",
   "nbconvert_exporter": "python",
   "pygments_lexer": "ipython3",
   "version": "3.10.6"
  }
 },
 "nbformat": 4,
 "nbformat_minor": 5
}
